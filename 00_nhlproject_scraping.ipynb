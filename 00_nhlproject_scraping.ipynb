{
 "cells": [
  {
   "cell_type": "markdown",
   "id": "676a7cd7-a6a5-42e0-8373-c32c37a15313",
   "metadata": {},
   "source": [
    "# HW5\n",
    "## NHL Scrapping\n",
    "11/12/2024"
   ]
  },
  {
   "cell_type": "code",
   "execution_count": null,
   "id": "180d2384-1ffe-48ff-ada4-8b78ebccac9a",
   "metadata": {},
   "outputs": [],
   "source": [
    "## code goes here"
   ]
  },
  {
   "cell_type": "code",
   "execution_count": null,
   "id": "419c171c-b8ba-4411-9b88-7abacb94ccfa",
   "metadata": {},
   "outputs": [],
   "source": [
    "print(\"hello world\")"
   ]
  }
 ],
 "metadata": {
  "kernelspec": {
   "display_name": "Python 3 (ipykernel)",
   "language": "python",
   "name": "python3"
  },
  "language_info": {
   "codemirror_mode": {
    "name": "ipython",
    "version": 3
   },
   "file_extension": ".py",
   "mimetype": "text/x-python",
   "name": "python",
   "nbconvert_exporter": "python",
   "pygments_lexer": "ipython3",
   "version": "3.12.3"
  }
 },
 "nbformat": 4,
 "nbformat_minor": 5
}
